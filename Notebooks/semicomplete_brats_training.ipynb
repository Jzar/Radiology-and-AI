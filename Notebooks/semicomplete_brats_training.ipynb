{
  "nbformat": 4,
  "nbformat_minor": 0,
  "metadata": {
    "colab": {
      "name": "brats_training.ipynb",
      "provenance": [],
      "collapsed_sections": []
    },
    "kernelspec": {
      "name": "python3",
      "display_name": "Python 3"
    },
    "accelerator": "GPU",
    "widgets": {
      "application/vnd.jupyter.widget-state+json": {
        "af5956e6109a473792ec1212f38fc67d": {
          "model_module": "@jupyter-widgets/controls",
          "model_name": "HBoxModel",
          "state": {
            "_view_name": "HBoxView",
            "_dom_classes": [],
            "_model_name": "HBoxModel",
            "_view_module": "@jupyter-widgets/controls",
            "_model_module_version": "1.5.0",
            "_view_count": null,
            "_view_module_version": "1.5.0",
            "box_style": "",
            "layout": "IPY_MODEL_e62c092e4dde438caa55e33750826c6c",
            "_model_module": "@jupyter-widgets/controls",
            "children": [
              "IPY_MODEL_2c5656e013f640e88a0af718a48180da",
              "IPY_MODEL_7cc4782acd294b4c9a9830da0eda0aff"
            ]
          }
        },
        "e62c092e4dde438caa55e33750826c6c": {
          "model_module": "@jupyter-widgets/base",
          "model_name": "LayoutModel",
          "state": {
            "_view_name": "LayoutView",
            "grid_template_rows": null,
            "right": null,
            "justify_content": null,
            "_view_module": "@jupyter-widgets/base",
            "overflow": null,
            "_model_module_version": "1.2.0",
            "_view_count": null,
            "flex_flow": "row wrap",
            "width": "100%",
            "min_width": null,
            "border": null,
            "align_items": null,
            "bottom": null,
            "_model_module": "@jupyter-widgets/base",
            "top": null,
            "grid_column": null,
            "overflow_y": null,
            "overflow_x": null,
            "grid_auto_flow": null,
            "grid_area": null,
            "grid_template_columns": null,
            "flex": null,
            "_model_name": "LayoutModel",
            "justify_items": null,
            "grid_row": null,
            "max_height": null,
            "align_content": null,
            "visibility": null,
            "align_self": null,
            "height": null,
            "min_height": null,
            "padding": null,
            "grid_auto_rows": null,
            "grid_gap": null,
            "max_width": null,
            "order": null,
            "_view_module_version": "1.2.0",
            "grid_template_areas": null,
            "object_position": null,
            "object_fit": null,
            "grid_auto_columns": null,
            "margin": null,
            "display": "inline-flex",
            "left": null
          }
        },
        "2c5656e013f640e88a0af718a48180da": {
          "model_module": "@jupyter-widgets/controls",
          "model_name": "FloatProgressModel",
          "state": {
            "_view_name": "ProgressView",
            "style": "IPY_MODEL_e99648f687e44b07a3af4cf75eca7b78",
            "_dom_classes": [],
            "description": "Epoch 0: 100%",
            "_model_name": "FloatProgressModel",
            "bar_style": "success",
            "max": 8,
            "_view_module": "@jupyter-widgets/controls",
            "_model_module_version": "1.5.0",
            "value": 8,
            "_view_count": null,
            "_view_module_version": "1.5.0",
            "orientation": "horizontal",
            "min": 0,
            "description_tooltip": null,
            "_model_module": "@jupyter-widgets/controls",
            "layout": "IPY_MODEL_b8d112989d8f454487e06ded65eebc91"
          }
        },
        "7cc4782acd294b4c9a9830da0eda0aff": {
          "model_module": "@jupyter-widgets/controls",
          "model_name": "HTMLModel",
          "state": {
            "_view_name": "HTMLView",
            "style": "IPY_MODEL_06f9c28f178d49a69d71fc99e981f0ab",
            "_dom_classes": [],
            "description": "",
            "_model_name": "HTMLModel",
            "placeholder": "​",
            "_view_module": "@jupyter-widgets/controls",
            "_model_module_version": "1.5.0",
            "value": " 8/8 [00:22&lt;00:00,  2.86s/it, loss=0.781, v_num=66]",
            "_view_count": null,
            "_view_module_version": "1.5.0",
            "description_tooltip": null,
            "_model_module": "@jupyter-widgets/controls",
            "layout": "IPY_MODEL_0b0c528450354849a59a65dccd51f7b1"
          }
        },
        "e99648f687e44b07a3af4cf75eca7b78": {
          "model_module": "@jupyter-widgets/controls",
          "model_name": "ProgressStyleModel",
          "state": {
            "_view_name": "StyleView",
            "_model_name": "ProgressStyleModel",
            "description_width": "initial",
            "_view_module": "@jupyter-widgets/base",
            "_model_module_version": "1.5.0",
            "_view_count": null,
            "_view_module_version": "1.2.0",
            "bar_color": null,
            "_model_module": "@jupyter-widgets/controls"
          }
        },
        "b8d112989d8f454487e06ded65eebc91": {
          "model_module": "@jupyter-widgets/base",
          "model_name": "LayoutModel",
          "state": {
            "_view_name": "LayoutView",
            "grid_template_rows": null,
            "right": null,
            "justify_content": null,
            "_view_module": "@jupyter-widgets/base",
            "overflow": null,
            "_model_module_version": "1.2.0",
            "_view_count": null,
            "flex_flow": null,
            "width": null,
            "min_width": null,
            "border": null,
            "align_items": null,
            "bottom": null,
            "_model_module": "@jupyter-widgets/base",
            "top": null,
            "grid_column": null,
            "overflow_y": null,
            "overflow_x": null,
            "grid_auto_flow": null,
            "grid_area": null,
            "grid_template_columns": null,
            "flex": "2",
            "_model_name": "LayoutModel",
            "justify_items": null,
            "grid_row": null,
            "max_height": null,
            "align_content": null,
            "visibility": null,
            "align_self": null,
            "height": null,
            "min_height": null,
            "padding": null,
            "grid_auto_rows": null,
            "grid_gap": null,
            "max_width": null,
            "order": null,
            "_view_module_version": "1.2.0",
            "grid_template_areas": null,
            "object_position": null,
            "object_fit": null,
            "grid_auto_columns": null,
            "margin": null,
            "display": null,
            "left": null
          }
        },
        "06f9c28f178d49a69d71fc99e981f0ab": {
          "model_module": "@jupyter-widgets/controls",
          "model_name": "DescriptionStyleModel",
          "state": {
            "_view_name": "StyleView",
            "_model_name": "DescriptionStyleModel",
            "description_width": "",
            "_view_module": "@jupyter-widgets/base",
            "_model_module_version": "1.5.0",
            "_view_count": null,
            "_view_module_version": "1.2.0",
            "_model_module": "@jupyter-widgets/controls"
          }
        },
        "0b0c528450354849a59a65dccd51f7b1": {
          "model_module": "@jupyter-widgets/base",
          "model_name": "LayoutModel",
          "state": {
            "_view_name": "LayoutView",
            "grid_template_rows": null,
            "right": null,
            "justify_content": null,
            "_view_module": "@jupyter-widgets/base",
            "overflow": null,
            "_model_module_version": "1.2.0",
            "_view_count": null,
            "flex_flow": null,
            "width": null,
            "min_width": null,
            "border": null,
            "align_items": null,
            "bottom": null,
            "_model_module": "@jupyter-widgets/base",
            "top": null,
            "grid_column": null,
            "overflow_y": null,
            "overflow_x": null,
            "grid_auto_flow": null,
            "grid_area": null,
            "grid_template_columns": null,
            "flex": null,
            "_model_name": "LayoutModel",
            "justify_items": null,
            "grid_row": null,
            "max_height": null,
            "align_content": null,
            "visibility": null,
            "align_self": null,
            "height": null,
            "min_height": null,
            "padding": null,
            "grid_auto_rows": null,
            "grid_gap": null,
            "max_width": null,
            "order": null,
            "_view_module_version": "1.2.0",
            "grid_template_areas": null,
            "object_position": null,
            "object_fit": null,
            "grid_auto_columns": null,
            "margin": null,
            "display": null,
            "left": null
          }
        }
      }
    }
  },
  "cells": [
    {
      "cell_type": "code",
      "metadata": {
        "id": "Hx-42AfSLUD7",
        "colab": {
          "base_uri": "https://localhost:8080/"
        },
        "outputId": "9125e48c-1c8d-49e9-ab06-e1af2045966d"
      },
      "source": [
        "!pip install pytorch_lightning\r\n",
        "#!git clone https://github.com/black0017/MedicalZooPytorch.git\r\n",
        "#!pip install -r MedicalZooPytorch/installation/requirements.txt\r\n",
        "#!pip install torch==1.7.1+cu101 torchvision==0.8.2+cu101 torchaudio==0.7.2 -f https://download.pytorch.org/whl/torch_stable.html"
      ],
      "execution_count": 1,
      "outputs": [
        {
          "output_type": "stream",
          "text": [
            "Requirement already satisfied: pytorch_lightning in /usr/local/lib/python3.6/dist-packages (1.1.1)\n",
            "Requirement already satisfied: PyYAML>=5.1 in /usr/local/lib/python3.6/dist-packages (from pytorch_lightning) (5.3.1)\n",
            "Requirement already satisfied: tqdm>=4.41.0 in /usr/local/lib/python3.6/dist-packages (from pytorch_lightning) (4.41.1)\n",
            "Requirement already satisfied: fsspec>=0.8.0 in /usr/local/lib/python3.6/dist-packages (from pytorch_lightning) (0.8.5)\n",
            "Requirement already satisfied: tensorboard>=2.2.0 in /usr/local/lib/python3.6/dist-packages (from pytorch_lightning) (2.4.0)\n",
            "Requirement already satisfied: torch>=1.3 in /usr/local/lib/python3.6/dist-packages (from pytorch_lightning) (1.7.0+cu101)\n",
            "Requirement already satisfied: future>=0.17.1 in /usr/local/lib/python3.6/dist-packages (from pytorch_lightning) (0.18.2)\n",
            "Requirement already satisfied: numpy>=1.16.6 in /usr/local/lib/python3.6/dist-packages (from pytorch_lightning) (1.19.4)\n",
            "Requirement already satisfied: grpcio>=1.24.3 in /usr/local/lib/python3.6/dist-packages (from tensorboard>=2.2.0->pytorch_lightning) (1.32.0)\n",
            "Requirement already satisfied: requests<3,>=2.21.0 in /usr/local/lib/python3.6/dist-packages (from tensorboard>=2.2.0->pytorch_lightning) (2.23.0)\n",
            "Requirement already satisfied: werkzeug>=0.11.15 in /usr/local/lib/python3.6/dist-packages (from tensorboard>=2.2.0->pytorch_lightning) (1.0.1)\n",
            "Requirement already satisfied: setuptools>=41.0.0 in /usr/local/lib/python3.6/dist-packages (from tensorboard>=2.2.0->pytorch_lightning) (50.3.2)\n",
            "Requirement already satisfied: wheel>=0.26; python_version >= \"3\" in /usr/local/lib/python3.6/dist-packages (from tensorboard>=2.2.0->pytorch_lightning) (0.36.2)\n",
            "Requirement already satisfied: protobuf>=3.6.0 in /usr/local/lib/python3.6/dist-packages (from tensorboard>=2.2.0->pytorch_lightning) (3.12.4)\n",
            "Requirement already satisfied: google-auth-oauthlib<0.5,>=0.4.1 in /usr/local/lib/python3.6/dist-packages (from tensorboard>=2.2.0->pytorch_lightning) (0.4.2)\n",
            "Requirement already satisfied: six>=1.10.0 in /usr/local/lib/python3.6/dist-packages (from tensorboard>=2.2.0->pytorch_lightning) (1.15.0)\n",
            "Requirement already satisfied: google-auth<2,>=1.6.3 in /usr/local/lib/python3.6/dist-packages (from tensorboard>=2.2.0->pytorch_lightning) (1.17.2)\n",
            "Requirement already satisfied: tensorboard-plugin-wit>=1.6.0 in /usr/local/lib/python3.6/dist-packages (from tensorboard>=2.2.0->pytorch_lightning) (1.7.0)\n",
            "Requirement already satisfied: absl-py>=0.4 in /usr/local/lib/python3.6/dist-packages (from tensorboard>=2.2.0->pytorch_lightning) (0.10.0)\n",
            "Requirement already satisfied: markdown>=2.6.8 in /usr/local/lib/python3.6/dist-packages (from tensorboard>=2.2.0->pytorch_lightning) (3.3.3)\n",
            "Requirement already satisfied: dataclasses in /usr/local/lib/python3.6/dist-packages (from torch>=1.3->pytorch_lightning) (0.8)\n",
            "Requirement already satisfied: typing-extensions in /usr/local/lib/python3.6/dist-packages (from torch>=1.3->pytorch_lightning) (3.7.4.3)\n",
            "Requirement already satisfied: certifi>=2017.4.17 in /usr/local/lib/python3.6/dist-packages (from requests<3,>=2.21.0->tensorboard>=2.2.0->pytorch_lightning) (2020.12.5)\n",
            "Requirement already satisfied: idna<3,>=2.5 in /usr/local/lib/python3.6/dist-packages (from requests<3,>=2.21.0->tensorboard>=2.2.0->pytorch_lightning) (2.10)\n",
            "Requirement already satisfied: chardet<4,>=3.0.2 in /usr/local/lib/python3.6/dist-packages (from requests<3,>=2.21.0->tensorboard>=2.2.0->pytorch_lightning) (3.0.4)\n",
            "Requirement already satisfied: urllib3!=1.25.0,!=1.25.1,<1.26,>=1.21.1 in /usr/local/lib/python3.6/dist-packages (from requests<3,>=2.21.0->tensorboard>=2.2.0->pytorch_lightning) (1.24.3)\n",
            "Requirement already satisfied: requests-oauthlib>=0.7.0 in /usr/local/lib/python3.6/dist-packages (from google-auth-oauthlib<0.5,>=0.4.1->tensorboard>=2.2.0->pytorch_lightning) (1.3.0)\n",
            "Requirement already satisfied: pyasn1-modules>=0.2.1 in /usr/local/lib/python3.6/dist-packages (from google-auth<2,>=1.6.3->tensorboard>=2.2.0->pytorch_lightning) (0.2.8)\n",
            "Requirement already satisfied: rsa<5,>=3.1.4; python_version >= \"3\" in /usr/local/lib/python3.6/dist-packages (from google-auth<2,>=1.6.3->tensorboard>=2.2.0->pytorch_lightning) (4.6)\n",
            "Requirement already satisfied: cachetools<5.0,>=2.0.0 in /usr/local/lib/python3.6/dist-packages (from google-auth<2,>=1.6.3->tensorboard>=2.2.0->pytorch_lightning) (4.2.0)\n",
            "Requirement already satisfied: importlib-metadata; python_version < \"3.8\" in /usr/local/lib/python3.6/dist-packages (from markdown>=2.6.8->tensorboard>=2.2.0->pytorch_lightning) (3.3.0)\n",
            "Requirement already satisfied: oauthlib>=3.0.0 in /usr/local/lib/python3.6/dist-packages (from requests-oauthlib>=0.7.0->google-auth-oauthlib<0.5,>=0.4.1->tensorboard>=2.2.0->pytorch_lightning) (3.1.0)\n",
            "Requirement already satisfied: pyasn1<0.5.0,>=0.4.6 in /usr/local/lib/python3.6/dist-packages (from pyasn1-modules>=0.2.1->google-auth<2,>=1.6.3->tensorboard>=2.2.0->pytorch_lightning) (0.4.8)\n",
            "Requirement already satisfied: zipp>=0.5 in /usr/local/lib/python3.6/dist-packages (from importlib-metadata; python_version < \"3.8\"->markdown>=2.6.8->tensorboard>=2.2.0->pytorch_lightning) (3.4.0)\n"
          ],
          "name": "stdout"
        }
      ]
    },
    {
      "cell_type": "code",
      "metadata": {
        "colab": {
          "base_uri": "https://localhost:8080/"
        },
        "id": "AM6nDNKWohsB",
        "outputId": "099192ca-3d62-4dea-edb8-d1df9edb8417"
      },
      "source": [
        "!pip install torchsummaryX"
      ],
      "execution_count": 2,
      "outputs": [
        {
          "output_type": "stream",
          "text": [
            "Requirement already satisfied: torchsummaryX in /usr/local/lib/python3.6/dist-packages (1.3.0)\n",
            "Requirement already satisfied: torch in /usr/local/lib/python3.6/dist-packages (from torchsummaryX) (1.7.0+cu101)\n",
            "Requirement already satisfied: numpy in /usr/local/lib/python3.6/dist-packages (from torchsummaryX) (1.19.4)\n",
            "Requirement already satisfied: pandas in /usr/local/lib/python3.6/dist-packages (from torchsummaryX) (1.1.5)\n",
            "Requirement already satisfied: dataclasses in /usr/local/lib/python3.6/dist-packages (from torch->torchsummaryX) (0.8)\n",
            "Requirement already satisfied: future in /usr/local/lib/python3.6/dist-packages (from torch->torchsummaryX) (0.18.2)\n",
            "Requirement already satisfied: typing-extensions in /usr/local/lib/python3.6/dist-packages (from torch->torchsummaryX) (3.7.4.3)\n",
            "Requirement already satisfied: python-dateutil>=2.7.3 in /usr/local/lib/python3.6/dist-packages (from pandas->torchsummaryX) (2.8.1)\n",
            "Requirement already satisfied: pytz>=2017.2 in /usr/local/lib/python3.6/dist-packages (from pandas->torchsummaryX) (2018.9)\n",
            "Requirement already satisfied: six>=1.5 in /usr/local/lib/python3.6/dist-packages (from python-dateutil>=2.7.3->pandas->torchsummaryX) (1.15.0)\n"
          ],
          "name": "stdout"
        }
      ]
    },
    {
      "cell_type": "code",
      "metadata": {
        "colab": {
          "base_uri": "https://localhost:8080/"
        },
        "id": "lCgXsg-3MZqe",
        "outputId": "34b1a8a7-fc0a-4f4c-918c-37fa6eaf2c52"
      },
      "source": [
        "from google.colab import drive\r\n",
        "drive.mount('/content/drive', force_remount=True)"
      ],
      "execution_count": 3,
      "outputs": [
        {
          "output_type": "stream",
          "text": [
            "Mounted at /content/drive\n"
          ],
          "name": "stdout"
        }
      ]
    },
    {
      "cell_type": "code",
      "metadata": {
        "colab": {
          "base_uri": "https://localhost:8080/"
        },
        "id": "9Cq9rosGosiv",
        "outputId": "f9c38bc3-2bba-4cbd-fd45-bc5f017afc5e"
      },
      "source": [
        "cd drive/MyDrive/MacAI"
      ],
      "execution_count": 4,
      "outputs": [
        {
          "output_type": "stream",
          "text": [
            "/content/drive/MyDrive/MacAI\n"
          ],
          "name": "stdout"
        }
      ]
    },
    {
      "cell_type": "code",
      "metadata": {
        "id": "fiN385qYLZOf"
      },
      "source": [
        "import os\r\n",
        "import torch\r\n",
        "from torch import nn\r\n",
        "import numpy as np\r\n",
        "import torch.nn.functional as F\r\n",
        "from torch.utils.data import Dataset, DataLoader, random_split\r\n",
        "import pytorch_lightning as pl\r\n",
        "import sys\r\n",
        "\r\n",
        "from lib import medzoo\r\n",
        "import nibabel as nb\r\n",
        "from skimage import transform\r\n",
        "import matplotlib.pyplot as plt\r\n"
      ],
      "execution_count": 5,
      "outputs": []
    },
    {
      "cell_type": "code",
      "metadata": {
        "id": "tYRSRLJipn3q"
      },
      "source": [
        ""
      ],
      "execution_count": 6,
      "outputs": []
    },
    {
      "cell_type": "code",
      "metadata": {
        "id": "DfVRQrb6YAJO"
      },
      "source": [
        "#Pytorch-lightning setup\r\n",
        "class TumourSegmentation(pl.LightningModule):\r\n",
        "  def __init__(self,model):\r\n",
        "    super().__init__()\r\n",
        "    self.model = model\r\n",
        "  def forward(self,x):\r\n",
        "  #  x=x.half()\r\n",
        "    f = self.model.forward(x)\r\n",
        "\r\n",
        "  #  print('Done forward step!')\r\n",
        "    return f\r\n",
        "\r\n",
        "  def training_step(self, batch, batch_idx):\r\n",
        "\r\n",
        "    x, y = batch\r\n",
        "\r\n",
        "    y_hat = self.model(x)\r\n",
        "    \r\n",
        "    # I'm not really sure why the shape is weird here, but this seems to run\r\n",
        "    y_hat = torch.squeeze(y_hat,axis=1) \r\n",
        "\r\n",
        "    loss = torch.mean(torch.abs(y_hat - y))\r\n",
        "    # this CE results in a CUDA error because the U-net implementation is strange\r\n",
        "    #F.binary_cross_entropy(y_hat, y)\r\n",
        "    return loss\r\n",
        "  def configure_optimizers(self):\r\n",
        "      return torch.optim.Adam(self.parameters(), lr=0.02)\r\n"
      ],
      "execution_count": 7,
      "outputs": []
    },
    {
      "cell_type": "code",
      "metadata": {
        "id": "03ntgHAghPMN"
      },
      "source": [
        "#model initialization\r\n",
        "#.half()\r\n",
        "unet_model =  medzoo.Unet3D.UNet3D(in_channels=4, n_classes=1, base_n_filter=4).cuda()#medzoo.Unet3D.UNet3D(in_channels=4,n_classes=1,base_n_filter=8)\r\n",
        "model = TumourSegmentation(unet_model)"
      ],
      "execution_count": 8,
      "outputs": []
    },
    {
      "cell_type": "code",
      "metadata": {
        "id": "PnexYhU5bTO1"
      },
      "source": [
        "#Dataset\r\n",
        "class brats_dataset(torch.utils.data.Dataset):\r\n",
        "  def __init__(self,data_folders):\r\n",
        "    self.data_list = []\r\n",
        "    \r\n",
        "    #Perform necessary input data preparation in this function\r\n",
        "    #add each input example into the data_last function\r\n",
        "    #takes in a list of folders and processes the data contained\r\n",
        "\r\n",
        "    # U net requires all dimensions be divisible by 8 (by default)\r\n",
        "    # or we'd have to manually do the padding in the U-net model\r\n",
        "    # no padding=\"valid\" exists in Pytorch for... reasons?\r\n",
        "    for i, folder in enumerate(data_folders):\r\n",
        "      i_str = folder[-3:]\r\n",
        "\r\n",
        "      f_flair = nb.load(os.path.join(folder,'BraTS20_Training_%s_flair.nii' % i_str),mmap=False).get_fdata()\r\n",
        "      f_seg = nb.load(os.path.join(folder,'BraTS20_Training_%s_seg.nii'% i_str),mmap=False).get_fdata()\r\n",
        "      f_t1ce = nb.load(os.path.join(folder,'BraTS20_Training_%s_t1ce.nii'% i_str),mmap=False).get_fdata()\r\n",
        "      f_t1 =  nb.load(os.path.join(folder,'BraTS20_Training_%s_t1.nii'% i_str),mmap=False).get_fdata() \r\n",
        "      f_t2 = nb.load(os.path.join(folder,'BraTS20_Training_%s_t2.nii'% i_str),mmap=False).get_fdata()\r\n",
        "\r\n",
        "      f_flair = torch.as_tensor(np.expand_dims(np.pad(f_flair, [(0, 0), (0, 0), (2, 3)]), axis=0)).half()\r\n",
        "      f_t1 = torch.as_tensor(np.expand_dims(np.pad(f_t1, [(0, 0), (0, 0), (2, 3)]), axis=0)).half()\r\n",
        "      f_t2 = torch.as_tensor(np.expand_dims(np.pad(f_t2, [(0, 0), (0, 0), (2, 3)]), axis=0)).half()\r\n",
        "      f_seg = torch.as_tensor(np.expand_dims(np.pad(f_seg, [(0, 0), (0, 0), (2, 3)]), axis=0)).half()\r\n",
        "      f_t1ce = torch.as_tensor(np.expand_dims(np.pad(f_t1ce, [(0, 0), (0, 0), (2, 3)]), axis=0)).half()\r\n",
        "\r\n",
        "\r\n",
        "      concat = torch.cat([f_t1, f_t1ce, f_t2, f_flair], axis=0)\r\n",
        "\r\n",
        "      self.data_list.append([concat, f_seg])\r\n",
        "  def __len__(self):\r\n",
        "    return len(self.data_list)\r\n",
        "  def __getitem__(self, index):\r\n",
        "    return self.data_list[index]"
      ],
      "execution_count": 9,
      "outputs": []
    },
    {
      "cell_type": "code",
      "metadata": {
        "id": "fKKc5cKKn26Z"
      },
      "source": [
        "data_folders = ['sample_data/BraTS20_Training_%s' % str(x).zfill(3) for x in range(1, 11)]\r\n",
        "dataset = brats_dataset(data_folders)\r\n",
        "train_dataset, val_dataset = random_split(dataset, lengths=[8,2])"
      ],
      "execution_count": 10,
      "outputs": []
    },
    {
      "cell_type": "code",
      "metadata": {
        "id": "a0ovIRL0oi9m"
      },
      "source": [
        "def train_collate_fn(batch):\r\n",
        "  pass\r\n",
        "  #this is where we would perform data augmentation on the input batch\r\n",
        "  "
      ],
      "execution_count": 11,
      "outputs": []
    },
    {
      "cell_type": "code",
      "metadata": {
        "id": "TkrOYpR5bSj7"
      },
      "source": [
        "#Data Loader\r\n",
        "train_dataloader = DataLoader(train_dataset)#,collate_fn=train_collate_fn)\r\n",
        "#val_dataloader = Dataloader(val_dataset)"
      ],
      "execution_count": 12,
      "outputs": []
    },
    {
      "cell_type": "code",
      "metadata": {
        "id": "LZAcdcHHavIB",
        "colab": {
          "base_uri": "https://localhost:8080/",
          "height": 353,
          "referenced_widgets": [
            "af5956e6109a473792ec1212f38fc67d",
            "e62c092e4dde438caa55e33750826c6c",
            "2c5656e013f640e88a0af718a48180da",
            "7cc4782acd294b4c9a9830da0eda0aff",
            "e99648f687e44b07a3af4cf75eca7b78",
            "b8d112989d8f454487e06ded65eebc91",
            "06f9c28f178d49a69d71fc99e981f0ab",
            "0b0c528450354849a59a65dccd51f7b1"
          ]
        },
        "outputId": "d6ddcd1c-3363-4b78-d710-738c93fd4421"
      },
      "source": [
        "#Training\r\n",
        "trainer = pl.Trainer(\r\n",
        "    accumulate_grad_batches = 1,\r\n",
        "    gpus = 1,\r\n",
        "    max_epochs = 1,\r\n",
        "    precision=16,\r\n",
        "    #check_val_every_n_epoch = 1,\r\n",
        "\r\n",
        ")\r\n",
        "#trainer.tune()\r\n",
        "trainer.fit(model=model,train_dataloader=train_dataloader)#,val_dataloaders=val_dataloader)"
      ],
      "execution_count": 15,
      "outputs": [
        {
          "output_type": "stream",
          "text": [
            "/usr/local/lib/python3.6/dist-packages/pytorch_lightning/utilities/distributed.py:49: UserWarning: You have set progress_bar_refresh_rate < 20 on Google Colab. This may crash. Consider using progress_bar_refresh_rate >= 20 in Trainer.\n",
            "  warnings.warn(*args, **kwargs)\n",
            "GPU available: True, used: True\n",
            "TPU available: None, using: 0 TPU cores\n",
            "LOCAL_RANK: 0 - CUDA_VISIBLE_DEVICES: [0]\n",
            "Using native 16bit precision.\n",
            "\n",
            "  | Name  | Type   | Params\n",
            "---------------------------------\n",
            "0 | model | UNet3D | 445 K \n",
            "---------------------------------\n",
            "445 K     Trainable params\n",
            "0         Non-trainable params\n",
            "445 K     Total params\n"
          ],
          "name": "stderr"
        },
        {
          "output_type": "display_data",
          "data": {
            "application/vnd.jupyter.widget-view+json": {
              "model_id": "af5956e6109a473792ec1212f38fc67d",
              "version_minor": 0,
              "version_major": 2
            },
            "text/plain": [
              "HBox(children=(FloatProgress(value=1.0, bar_style='info', description='Training', layout=Layout(flex='2'), max…"
            ]
          },
          "metadata": {
            "tags": []
          }
        },
        {
          "output_type": "stream",
          "text": [
            "\n"
          ],
          "name": "stdout"
        },
        {
          "output_type": "execute_result",
          "data": {
            "text/plain": [
              "1"
            ]
          },
          "metadata": {
            "tags": []
          },
          "execution_count": 15
        }
      ]
    },
    {
      "cell_type": "code",
      "metadata": {
        "id": "Y0yn7c4yPSAQ"
      },
      "source": [
        "\r\n",
        "#outputs = unet_model(torch.unsqueeze(dataset.data_list[0][0], axis=0).cuda())\r\n",
        "#loss = torch.mean(torch.abs(torch.squeeze(outputs,axis=1) - dataset.data_list[0][1].cuda()))\r\n",
        "\r\n",
        "#optimizer = torch.optim.Adam(unet_model.parameters()) \r\n",
        "#optimizer.zero_grad()\r\n",
        "#loss.backward()\r\n",
        "#optimizer.step()\r\n",
        "#print(loss)"
      ],
      "execution_count": null,
      "outputs": []
    },
    {
      "cell_type": "code",
      "metadata": {
        "id": "QuXPCQZO60vH"
      },
      "source": [
        "    # to be used later\r\n",
        "#def bbox2_3D(img):\r\n",
        "\r\n",
        "#    r = np.any(img, axis=(1, 2))\r\n",
        "#    c = np.any(img, axis=(0, 2))\r\n",
        "#    z = np.any(img, axis=(0, 1))\r\n",
        "\r\n",
        "#    rmin, rmax = np.where(r)[0][[0, -1]]\r\n",
        "#    cmin, cmax = np.where(c)[0][[0, -1]]\r\n",
        "#    zmin, zmax = np.where(z)[0][[0, -1]]\r\n",
        "\r\n",
        "#    return rmin, rmax, cmin, cmax, zmin, zmax\r\n",
        "    \r\n"
      ],
      "execution_count": 16,
      "outputs": []
    },
    {
      "cell_type": "markdown",
      "metadata": {
        "id": "gJ4yJuIdso2q"
      },
      "source": [
        "\r\n",
        "      xmins = []\r\n",
        "      xmaxs = []\r\n",
        "      ymins = []\r\n",
        "      ymaxs = []\r\n",
        "      zmins = []\r\n",
        "      zmaxs = []\r\n",
        "      for img in [f_flair, f_seg, f_t1ce, f_t1, f_t2]:\r\n",
        "        xmin, xmax, ymin, ymax, zmin, zmax = bbox2_3D(img)\r\n",
        "        xmins.append(xmin)\r\n",
        "        xmaxs.append(xmax)\r\n",
        "        ymins.append(ymin)\r\n",
        "        ymaxs.append(ymax)\r\n",
        "        zmins.append(zmin)\r\n",
        "        zmaxs.append(zmax)\r\n",
        "      xmin = np.min(xmin)\r\n",
        "      ymin = np.min(ymin)\r\n",
        "      zmin = np.min(zmin)\r\n",
        "      xmax = np.max(xmax)\r\n",
        "      ymax = np.max(ymax)\r\n",
        "      zmax = np.max(zmax)\r\n",
        "\r\n",
        "      f_flair = f_flair[xmin:xmax, ymin:ymax, zmin:zmax]\r\n",
        "      f_seg = f_seg[xmin:xmax, ymin:ymax, zmin:zmax]\r\n",
        "      f_t1ce = f_t1ce[xmin:xmax, ymin:ymax, zmin:zmax]\r\n",
        "      f_t1 = f_t1[xmin:xmax, ymin:ymax, zmin:zmax]\r\n",
        "      f_t2 = f_t2[xmin:xmax, ymin:ymax, zmin:zmax]\r\n",
        "\r\n",
        "      print(f_flair.shape)"
      ]
    }
  ]
}